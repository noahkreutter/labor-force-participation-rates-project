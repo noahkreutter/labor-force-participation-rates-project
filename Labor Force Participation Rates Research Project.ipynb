{
 "cells": [
  {
   "cell_type": "code",
   "execution_count": 1,
   "metadata": {},
   "outputs": [],
   "source": [
    "import numpy as np\n",
    "import pandas as pd\n",
    "import matplotlib.pyplot as plt \n",
    "import math\n",
    "from sklearn.linear_model import LogisticRegression\n",
    "from sklearn.metrics import confusion_matrix\n"
   ]
  },
  {
   "cell_type": "markdown",
   "metadata": {},
   "source": [
    "The goal of this project is to understand the impact of an aging population on labor force participation rates. In particular,\n",
    "I am concerned with answering the question \"What would the aggregate labor force participation rate of people age 15 and older \n",
    "be in 2015, if the age distribution of the population were the same as it was in 1995?\"\n",
    "\n",
    "I have survey data from 1995 and 2015. Note some individuals are over or underrepresented in this sample, so sample weights\n",
    "must be applied in order to produce representative statistics. \n",
    "\n",
    "Below, I've included a key explaining how this data has been labeled:\n",
    "\n",
    " AGE\t\t<br/>\n",
    "1995: 90+ coded as 90    <br/>\n",
    "2015: 80-84 coded as 80, 85+ coded as 85   <br/>\n",
    "\n",
    " SEX\t\n",
    "1\t\tMale   <br/>\n",
    "2\t\tFemale   <br/>\n",
    "9\t\tNot in universe   <br/>\n",
    "\n",
    " POPSTAT\t(Adult civilian, armed forces, or child)   <br/>\n",
    "1\t\tAdult civilian   <br/>\n",
    "2\t\tArmed forces   <br/>\n",
    "3\t\tChild (14 or younger)  <br/>\n",
    "\n",
    " LABFORCE\t(Labor force status)   <br/>\n",
    "0\t\tNot in universe   <br/>\n",
    "1\t\tNo, not in the labor force   <br/>\n",
    "2\t\tYes, in the labor force   <br/>\n",
    "\n",
    " WTSUPP\t\t(Supplement Weight)   <br/>\n",
    " \n",
    "This data was provided to me by the Penn Wharton Budget Model as part of a research project I completed for them.\n"
   ]
  },
  {
   "cell_type": "code",
   "execution_count": 2,
   "metadata": {},
   "outputs": [
    {
     "data": {
      "text/html": [
       "<div>\n",
       "<style scoped>\n",
       "    .dataframe tbody tr th:only-of-type {\n",
       "        vertical-align: middle;\n",
       "    }\n",
       "\n",
       "    .dataframe tbody tr th {\n",
       "        vertical-align: top;\n",
       "    }\n",
       "\n",
       "    .dataframe thead th {\n",
       "        text-align: right;\n",
       "    }\n",
       "</style>\n",
       "<table border=\"1\" class=\"dataframe\">\n",
       "  <thead>\n",
       "    <tr style=\"text-align: right;\">\n",
       "      <th></th>\n",
       "      <th>year</th>\n",
       "      <th>wtsupp</th>\n",
       "      <th>age</th>\n",
       "      <th>sex</th>\n",
       "      <th>popstat</th>\n",
       "      <th>labforce</th>\n",
       "    </tr>\n",
       "  </thead>\n",
       "  <tbody>\n",
       "    <tr>\n",
       "      <td>0</td>\n",
       "      <td>1995</td>\n",
       "      <td>929.61</td>\n",
       "      <td>48</td>\n",
       "      <td>2</td>\n",
       "      <td>1</td>\n",
       "      <td>1</td>\n",
       "    </tr>\n",
       "    <tr>\n",
       "      <td>1</td>\n",
       "      <td>1995</td>\n",
       "      <td>832.67</td>\n",
       "      <td>65</td>\n",
       "      <td>2</td>\n",
       "      <td>1</td>\n",
       "      <td>2</td>\n",
       "    </tr>\n",
       "    <tr>\n",
       "      <td>2</td>\n",
       "      <td>1995</td>\n",
       "      <td>787.95</td>\n",
       "      <td>10</td>\n",
       "      <td>2</td>\n",
       "      <td>3</td>\n",
       "      <td>0</td>\n",
       "    </tr>\n",
       "    <tr>\n",
       "      <td>3</td>\n",
       "      <td>1995</td>\n",
       "      <td>938.27</td>\n",
       "      <td>25</td>\n",
       "      <td>2</td>\n",
       "      <td>1</td>\n",
       "      <td>2</td>\n",
       "    </tr>\n",
       "    <tr>\n",
       "      <td>4</td>\n",
       "      <td>1995</td>\n",
       "      <td>900.74</td>\n",
       "      <td>21</td>\n",
       "      <td>1</td>\n",
       "      <td>1</td>\n",
       "      <td>2</td>\n",
       "    </tr>\n",
       "  </tbody>\n",
       "</table>\n",
       "</div>"
      ],
      "text/plain": [
       "   year  wtsupp  age  sex  popstat  labforce\n",
       "0  1995  929.61   48    2        1         1\n",
       "1  1995  832.67   65    2        1         2\n",
       "2  1995  787.95   10    2        3         0\n",
       "3  1995  938.27   25    2        1         2\n",
       "4  1995  900.74   21    1        1         2"
      ]
     },
     "execution_count": 2,
     "metadata": {},
     "output_type": "execute_result"
    }
   ],
   "source": [
    "#Import the data \n",
    "data = pd.read_csv('MarchCPS_1995_2015.csv')\n",
    "data.head()"
   ]
  },
  {
   "cell_type": "code",
   "execution_count": 3,
   "metadata": {},
   "outputs": [
    {
     "data": {
      "text/html": [
       "<div>\n",
       "<style scoped>\n",
       "    .dataframe tbody tr th:only-of-type {\n",
       "        vertical-align: middle;\n",
       "    }\n",
       "\n",
       "    .dataframe tbody tr th {\n",
       "        vertical-align: top;\n",
       "    }\n",
       "\n",
       "    .dataframe thead th {\n",
       "        text-align: right;\n",
       "    }\n",
       "</style>\n",
       "<table border=\"1\" class=\"dataframe\">\n",
       "  <thead>\n",
       "    <tr style=\"text-align: right;\">\n",
       "      <th></th>\n",
       "      <th>year</th>\n",
       "      <th>wtsupp</th>\n",
       "      <th>age</th>\n",
       "      <th>sex</th>\n",
       "      <th>popstat</th>\n",
       "      <th>labforce</th>\n",
       "      <th>agesq</th>\n",
       "    </tr>\n",
       "  </thead>\n",
       "  <tbody>\n",
       "    <tr>\n",
       "      <td>0</td>\n",
       "      <td>1995</td>\n",
       "      <td>929.61</td>\n",
       "      <td>48</td>\n",
       "      <td>2</td>\n",
       "      <td>1</td>\n",
       "      <td>0</td>\n",
       "      <td>2304</td>\n",
       "    </tr>\n",
       "    <tr>\n",
       "      <td>1</td>\n",
       "      <td>1995</td>\n",
       "      <td>832.67</td>\n",
       "      <td>65</td>\n",
       "      <td>2</td>\n",
       "      <td>1</td>\n",
       "      <td>1</td>\n",
       "      <td>4225</td>\n",
       "    </tr>\n",
       "    <tr>\n",
       "      <td>3</td>\n",
       "      <td>1995</td>\n",
       "      <td>938.27</td>\n",
       "      <td>25</td>\n",
       "      <td>2</td>\n",
       "      <td>1</td>\n",
       "      <td>1</td>\n",
       "      <td>625</td>\n",
       "    </tr>\n",
       "    <tr>\n",
       "      <td>4</td>\n",
       "      <td>1995</td>\n",
       "      <td>900.74</td>\n",
       "      <td>21</td>\n",
       "      <td>1</td>\n",
       "      <td>1</td>\n",
       "      <td>1</td>\n",
       "      <td>441</td>\n",
       "    </tr>\n",
       "    <tr>\n",
       "      <td>5</td>\n",
       "      <td>1995</td>\n",
       "      <td>864.86</td>\n",
       "      <td>36</td>\n",
       "      <td>1</td>\n",
       "      <td>1</td>\n",
       "      <td>1</td>\n",
       "      <td>1296</td>\n",
       "    </tr>\n",
       "  </tbody>\n",
       "</table>\n",
       "</div>"
      ],
      "text/plain": [
       "   year  wtsupp  age  sex  popstat  labforce  agesq\n",
       "0  1995  929.61   48    2        1         0   2304\n",
       "1  1995  832.67   65    2        1         1   4225\n",
       "3  1995  938.27   25    2        1         1    625\n",
       "4  1995  900.74   21    1        1         1    441\n",
       "5  1995  864.86   36    1        1         1   1296"
      ]
     },
     "execution_count": 3,
     "metadata": {},
     "output_type": "execute_result"
    }
   ],
   "source": [
    "#Restrict our analysis to the universe of individuals who are included in labor force participation statistics\n",
    "universe = data[data['popstat']==1].copy()\n",
    "\n",
    "#Now for some data cleaning and preparation\n",
    "\n",
    "#Adjust labforce variable such that 0 corresponds to not participating and 1 corresponds to participating (since everyone\n",
    "#is now in-universe)\n",
    "universe['labforce'] -= 1\n",
    "\n",
    "#Since some ages greater than 80 are coded as 80, I will censor all the data such that 80 is the maximum age value. \n",
    "#This is to easily facilitate apples to apples comparisons within and between years. Given the rarity of such individuals\n",
    "#in the data set, I do not expect this to be a significant source of bias- though accounting for a censored independent variable\n",
    "#might be an interesting econometric problem, it is a bit beyond my current scope.\n",
    "universe['age'] = universe['age'].apply(lambda x: min(x,80))\n",
    "\n",
    "#Create an \"age squared\" stat\n",
    "universe['agesq'] = universe['age']*universe['age']\n",
    "\n",
    "universe.head()"
   ]
  },
  {
   "cell_type": "code",
   "execution_count": 4,
   "metadata": {},
   "outputs": [
    {
     "data": {
      "text/html": [
       "<div>\n",
       "<style scoped>\n",
       "    .dataframe tbody tr th:only-of-type {\n",
       "        vertical-align: middle;\n",
       "    }\n",
       "\n",
       "    .dataframe tbody tr th {\n",
       "        vertical-align: top;\n",
       "    }\n",
       "\n",
       "    .dataframe thead th {\n",
       "        text-align: right;\n",
       "    }\n",
       "</style>\n",
       "<table border=\"1\" class=\"dataframe\">\n",
       "  <thead>\n",
       "    <tr style=\"text-align: right;\">\n",
       "      <th></th>\n",
       "      <th>year</th>\n",
       "      <th>wtsupp</th>\n",
       "      <th>age</th>\n",
       "      <th>sex</th>\n",
       "      <th>popstat</th>\n",
       "      <th>labforce</th>\n",
       "      <th>agesq</th>\n",
       "      <th>w_labforce</th>\n",
       "    </tr>\n",
       "  </thead>\n",
       "  <tbody>\n",
       "    <tr>\n",
       "      <td>0</td>\n",
       "      <td>1995</td>\n",
       "      <td>929.61</td>\n",
       "      <td>48</td>\n",
       "      <td>2</td>\n",
       "      <td>1</td>\n",
       "      <td>0</td>\n",
       "      <td>2304</td>\n",
       "      <td>0.000000</td>\n",
       "    </tr>\n",
       "    <tr>\n",
       "      <td>1</td>\n",
       "      <td>1995</td>\n",
       "      <td>832.67</td>\n",
       "      <td>65</td>\n",
       "      <td>2</td>\n",
       "      <td>1</td>\n",
       "      <td>1</td>\n",
       "      <td>4225</td>\n",
       "      <td>0.469670</td>\n",
       "    </tr>\n",
       "    <tr>\n",
       "      <td>2</td>\n",
       "      <td>1995</td>\n",
       "      <td>938.27</td>\n",
       "      <td>25</td>\n",
       "      <td>2</td>\n",
       "      <td>1</td>\n",
       "      <td>1</td>\n",
       "      <td>625</td>\n",
       "      <td>0.529234</td>\n",
       "    </tr>\n",
       "    <tr>\n",
       "      <td>3</td>\n",
       "      <td>1995</td>\n",
       "      <td>900.74</td>\n",
       "      <td>21</td>\n",
       "      <td>1</td>\n",
       "      <td>1</td>\n",
       "      <td>1</td>\n",
       "      <td>441</td>\n",
       "      <td>0.508065</td>\n",
       "    </tr>\n",
       "    <tr>\n",
       "      <td>4</td>\n",
       "      <td>1995</td>\n",
       "      <td>864.86</td>\n",
       "      <td>36</td>\n",
       "      <td>1</td>\n",
       "      <td>1</td>\n",
       "      <td>1</td>\n",
       "      <td>1296</td>\n",
       "      <td>0.487827</td>\n",
       "    </tr>\n",
       "  </tbody>\n",
       "</table>\n",
       "</div>"
      ],
      "text/plain": [
       "   year  wtsupp  age  sex  popstat  labforce  agesq  w_labforce\n",
       "0  1995  929.61   48    2        1         0   2304    0.000000\n",
       "1  1995  832.67   65    2        1         1   4225    0.469670\n",
       "2  1995  938.27   25    2        1         1    625    0.529234\n",
       "3  1995  900.74   21    1        1         1    441    0.508065\n",
       "4  1995  864.86   36    1        1         1   1296    0.487827"
      ]
     },
     "execution_count": 4,
     "metadata": {},
     "output_type": "execute_result"
    }
   ],
   "source": [
    "#Apply survey weights to the labforce variable so that we can compare overall labor force participation rates between years\n",
    "\n",
    "#Find average weight for each year\n",
    "averageweight_1995 = universe[universe['year']==1995]['wtsupp'].mean()\n",
    "averageweight_2015 = universe[universe['year']==2015]['wtsupp'].mean()\n",
    "\n",
    "#Apply weights to 1995 data\n",
    "uni_1995 = universe[universe['year']==1995].copy()\n",
    "uni_1995['w_labforce'] = uni_1995['labforce']*uni_1995['wtsupp']/averageweight_1995\n",
    "\n",
    "#Apply weights to 2015 data\n",
    "uni_2015=universe[universe['year']==2015].copy()\n",
    "uni_2015['w_labforce'] = uni_2015['labforce']*uni_2015['wtsupp']/averageweight_2015\n",
    "\n",
    "#Recombine 1995 and 2015 data sets\n",
    "universe = pd.concat([uni_1995, uni_2015], join=\"inner\").reset_index(drop=True)\n",
    "universe.head()\n"
   ]
  },
  {
   "cell_type": "code",
   "execution_count": 5,
   "metadata": {},
   "outputs": [
    {
     "data": {
      "text/html": [
       "<div>\n",
       "<style scoped>\n",
       "    .dataframe tbody tr th:only-of-type {\n",
       "        vertical-align: middle;\n",
       "    }\n",
       "\n",
       "    .dataframe tbody tr th {\n",
       "        vertical-align: top;\n",
       "    }\n",
       "\n",
       "    .dataframe thead th {\n",
       "        text-align: right;\n",
       "    }\n",
       "</style>\n",
       "<table border=\"1\" class=\"dataframe\">\n",
       "  <thead>\n",
       "    <tr style=\"text-align: right;\">\n",
       "      <th></th>\n",
       "      <th>w_labforce</th>\n",
       "    </tr>\n",
       "    <tr>\n",
       "      <th>year</th>\n",
       "      <th></th>\n",
       "    </tr>\n",
       "  </thead>\n",
       "  <tbody>\n",
       "    <tr>\n",
       "      <td>1995</td>\n",
       "      <td>0.651931</td>\n",
       "    </tr>\n",
       "    <tr>\n",
       "      <td>2015</td>\n",
       "      <td>0.616368</td>\n",
       "    </tr>\n",
       "  </tbody>\n",
       "</table>\n",
       "</div>"
      ],
      "text/plain": [
       "      w_labforce\n",
       "year            \n",
       "1995    0.651931\n",
       "2015    0.616368"
      ]
     },
     "execution_count": 5,
     "metadata": {},
     "output_type": "execute_result"
    }
   ],
   "source": [
    "#Let's look at how the overall labor force participation rates (LFPR) vary between 1995 and 2015\n",
    "universe[['year','w_labforce']].groupby('year').mean()"
   ]
  },
  {
   "cell_type": "markdown",
   "metadata": {},
   "source": [
    "We see that 2015 had a noticeably lower labor force participation rate than 1995. Can we explain this in terms of an aging population?"
   ]
  },
  {
   "cell_type": "code",
   "execution_count": 6,
   "metadata": {},
   "outputs": [
    {
     "data": {
      "text/plain": [
       "Text(0.5, 1.0, 'Labor Force Participation Rate by Age, 1995')"
      ]
     },
     "execution_count": 6,
     "metadata": {},
     "output_type": "execute_result"
    },
    {
     "data": {
      "image/png": "[encoded data removed]",
      "text/plain": [
       "<Figure size 432x288 with 1 Axes>"
      ]
     },
     "metadata": {
      "needs_background": "light"
     },
     "output_type": "display_data"
    }
   ],
   "source": [
    "#Let's see how labor force participation rates vary by age in both 1995 and 2015. \n",
    "lfpr_vs_age_1995 = uni_1995[['age','w_labforce']].groupby('age').mean()\n",
    "\n",
    "plt.plot(lfpr_vs_age_1995['w_labforce'])\n",
    "plt.xlabel('Age')\n",
    "plt.ylabel('Labor Force Participation Rate')\n",
    "plt.title('Labor Force Participation Rate by Age, 1995')"
   ]
  },
  {
   "cell_type": "code",
   "execution_count": 7,
   "metadata": {},
   "outputs": [
    {
     "data": {
      "text/plain": [
       "Text(0.5, 1.0, 'Labor Force Participation Rate by Age, 2015')"
      ]
     },
     "execution_count": 7,
     "metadata": {},
     "output_type": "execute_result"
    },
    {
     "data": {
      "image/png": "[encoded data removed]",
      "text/plain": [
       "<Figure size 432x288 with 1 Axes>"
      ]
     },
     "metadata": {
      "needs_background": "light"
     },
     "output_type": "display_data"
    }
   ],
   "source": [
    "#Repeat this analysis for 2015\n",
    "lfpr_vs_age_2015 = uni_2015[['age','w_labforce']].groupby('age').mean()\n",
    "\n",
    "plt.plot(lfpr_vs_age_2015['w_labforce'])\n",
    "plt.xlabel('Age')\n",
    "plt.ylabel('Labor Force Participation Rate')\n",
    "plt.title('Labor Force Participation Rate by Age, 2015')"
   ]
  },
  {
   "cell_type": "markdown",
   "metadata": {},
   "source": [
    "In 2015, there is a downward convexity in the labor force participation rates that starts with those in their early 20's and\n",
    "bottoms out with those in their early to mid 30's. This convexity is not present in 1995, which obeys the expected pattern of LFPR steadily increasing until 25 or so, plateauing, then beginning to decrease as individuals reach retirement.\n",
    "\n",
    "This strongly suggests that any overall difference in labor force participation rates between 1995 and 2015 cannot be explained\n",
    "solely in terms of an aging population. \n",
    "\n",
    "Next, I will use 1995 data to build a logistic model that predicts labor force participation rates as a function of age. Then I will use this model to predict the 2015 aggregate labor force participation rate given the age structure of the 2015 population. Any residual difference between the observed 2015 LFPR and the model-predicted 2015 LFPR is attributable to non-aging factors. "
   ]
  },
  {
   "cell_type": "code",
   "execution_count": 8,
   "metadata": {},
   "outputs": [],
   "source": [
    "x_vars = uni_1995[['age','agesq']].copy()\n",
    "y_vars = uni_1995['labforce'].copy()\n",
    "weights = uni_1995['wtsupp'].copy()"
   ]
  },
  {
   "cell_type": "code",
   "execution_count": 9,
   "metadata": {},
   "outputs": [
    {
     "name": "stderr",
     "output_type": "stream",
     "text": [
      "C:\\Users\\nkreu\\Anaconda3\\lib\\site-packages\\sklearn\\linear_model\\logistic.py:432: FutureWarning: Default solver will be changed to 'lbfgs' in 0.22. Specify a solver to silence this warning.\n",
      "  FutureWarning)\n"
     ]
    }
   ],
   "source": [
    "logreg = LogisticRegression()\n",
    "model = logreg.fit(x_vars, y_vars, sample_weight=weights)"
   ]
  },
  {
   "cell_type": "code",
   "execution_count": 10,
   "metadata": {},
   "outputs": [
    {
     "data": {
      "text/plain": [
       "array([[ 0.30044385, -0.00381478]])"
      ]
     },
     "execution_count": 10,
     "metadata": {},
     "output_type": "execute_result"
    }
   ],
   "source": [
    "model.coef_"
   ]
  },
  {
   "cell_type": "code",
   "execution_count": 11,
   "metadata": {},
   "outputs": [
    {
     "data": {
      "text/plain": [
       "array([-4.02957117])"
      ]
     },
     "execution_count": 11,
     "metadata": {},
     "output_type": "execute_result"
    }
   ],
   "source": [
    "model.intercept_"
   ]
  },
  {
   "cell_type": "code",
   "execution_count": 12,
   "metadata": {},
   "outputs": [],
   "source": [
    "#Our model takes the form y=exp(0.30044385*age-0.00381478*agesq-4.02957117)/(1+exp(0.30044385*age-0.00381478*agesq-4.02957117))\n",
    "#Note that this analysis was originally conducted in Stata and significant p-values were found at the 0.01 level for all \n",
    "#model parameters. Unfortunately, scikit-learn does not seem to have p-values supported and statsmodels does not seem to support\n",
    "#sample weights. So I did this in scikit-learn. "
   ]
  },
  {
   "cell_type": "code",
   "execution_count": 13,
   "metadata": {},
   "outputs": [
    {
     "data": {
      "text/plain": [
       "0.7977175689209847"
      ]
     },
     "execution_count": 13,
     "metadata": {},
     "output_type": "execute_result"
    }
   ],
   "source": [
    "#Let's see how often our model makes the correct prediction in-sample\n",
    "logreg.score(x_vars, y_vars)"
   ]
  },
  {
   "cell_type": "code",
   "execution_count": 14,
   "metadata": {},
   "outputs": [
    {
     "name": "stdout",
     "output_type": "stream",
     "text": [
      "[[22658 17563]\n",
      " [ 5462 68143]]\n"
     ]
    }
   ],
   "source": [
    "#And let's also look at how its mistakes break down by true classification\n",
    "y_pred = logreg.predict(x_vars)\n",
    "confusion_matrix = confusion_matrix(y_vars, y_pred)\n",
    "print(confusion_matrix)"
   ]
  },
  {
   "cell_type": "markdown",
   "metadata": {},
   "source": [
    "It seems that the model almost always classifies labor force participators correctly and classifies those not in the labor force correctly around 55% of the time. "
   ]
  },
  {
   "cell_type": "code",
   "execution_count": 15,
   "metadata": {},
   "outputs": [],
   "source": [
    "#Let's attach a model-predicted probability to each observation in-sample.\n",
    "def predict_lfp(age,agesq):\n",
    "    y=math.exp(0.30044385*age-0.00381478*agesq-4.02957117)/(1+math.exp(0.30044385*age-0.00381478*agesq-4.02957117))\n",
    "    return y\n",
    "    "
   ]
  },
  {
   "cell_type": "code",
   "execution_count": 16,
   "metadata": {},
   "outputs": [
    {
     "data": {
      "text/html": [
       "<div>\n",
       "<style scoped>\n",
       "    .dataframe tbody tr th:only-of-type {\n",
       "        vertical-align: middle;\n",
       "    }\n",
       "\n",
       "    .dataframe tbody tr th {\n",
       "        vertical-align: top;\n",
       "    }\n",
       "\n",
       "    .dataframe thead th {\n",
       "        text-align: right;\n",
       "    }\n",
       "</style>\n",
       "<table border=\"1\" class=\"dataframe\">\n",
       "  <thead>\n",
       "    <tr style=\"text-align: right;\">\n",
       "      <th></th>\n",
       "      <th>year</th>\n",
       "      <th>wtsupp</th>\n",
       "      <th>age</th>\n",
       "      <th>sex</th>\n",
       "      <th>popstat</th>\n",
       "      <th>labforce</th>\n",
       "      <th>agesq</th>\n",
       "      <th>w_labforce</th>\n",
       "      <th>Model Predicted LFP Probability</th>\n",
       "    </tr>\n",
       "  </thead>\n",
       "  <tbody>\n",
       "    <tr>\n",
       "      <td>0</td>\n",
       "      <td>1995</td>\n",
       "      <td>929.61</td>\n",
       "      <td>48</td>\n",
       "      <td>2</td>\n",
       "      <td>1</td>\n",
       "      <td>0</td>\n",
       "      <td>2304</td>\n",
       "      <td>0.000000</td>\n",
       "      <td>0.832365</td>\n",
       "    </tr>\n",
       "    <tr>\n",
       "      <td>1</td>\n",
       "      <td>1995</td>\n",
       "      <td>832.67</td>\n",
       "      <td>65</td>\n",
       "      <td>2</td>\n",
       "      <td>1</td>\n",
       "      <td>1</td>\n",
       "      <td>4225</td>\n",
       "      <td>0.469670</td>\n",
       "      <td>0.350199</td>\n",
       "    </tr>\n",
       "    <tr>\n",
       "      <td>3</td>\n",
       "      <td>1995</td>\n",
       "      <td>938.27</td>\n",
       "      <td>25</td>\n",
       "      <td>2</td>\n",
       "      <td>1</td>\n",
       "      <td>1</td>\n",
       "      <td>625</td>\n",
       "      <td>0.529234</td>\n",
       "      <td>0.749752</td>\n",
       "    </tr>\n",
       "    <tr>\n",
       "      <td>4</td>\n",
       "      <td>1995</td>\n",
       "      <td>900.74</td>\n",
       "      <td>21</td>\n",
       "      <td>1</td>\n",
       "      <td>1</td>\n",
       "      <td>1</td>\n",
       "      <td>441</td>\n",
       "      <td>0.508065</td>\n",
       "      <td>0.645069</td>\n",
       "    </tr>\n",
       "    <tr>\n",
       "      <td>5</td>\n",
       "      <td>1995</td>\n",
       "      <td>864.86</td>\n",
       "      <td>36</td>\n",
       "      <td>1</td>\n",
       "      <td>1</td>\n",
       "      <td>1</td>\n",
       "      <td>1296</td>\n",
       "      <td>0.487827</td>\n",
       "      <td>0.863239</td>\n",
       "    </tr>\n",
       "  </tbody>\n",
       "</table>\n",
       "</div>"
      ],
      "text/plain": [
       "   year  wtsupp  age  sex  popstat  labforce  agesq  w_labforce  \\\n",
       "0  1995  929.61   48    2        1         0   2304    0.000000   \n",
       "1  1995  832.67   65    2        1         1   4225    0.469670   \n",
       "3  1995  938.27   25    2        1         1    625    0.529234   \n",
       "4  1995  900.74   21    1        1         1    441    0.508065   \n",
       "5  1995  864.86   36    1        1         1   1296    0.487827   \n",
       "\n",
       "   Model Predicted LFP Probability  \n",
       "0                         0.832365  \n",
       "1                         0.350199  \n",
       "3                         0.749752  \n",
       "4                         0.645069  \n",
       "5                         0.863239  "
      ]
     },
     "execution_count": 16,
     "metadata": {},
     "output_type": "execute_result"
    }
   ],
   "source": [
    "uni_1995['Model Predicted LFP Probability']=uni_1995.apply(lambda x: predict_lfp(x.age, x.agesq),axis=1)\n",
    "uni_1995.head()"
   ]
  },
  {
   "cell_type": "code",
   "execution_count": 17,
   "metadata": {},
   "outputs": [
    {
     "data": {
      "text/plain": [
       "0.6482075523204618"
      ]
     },
     "execution_count": 17,
     "metadata": {},
     "output_type": "execute_result"
    }
   ],
   "source": [
    "uni_1995['Model Predicted LFP Probability'].mean()"
   ]
  },
  {
   "cell_type": "code",
   "execution_count": 18,
   "metadata": {},
   "outputs": [
    {
     "data": {
      "text/plain": [
       "0.4437505260353371"
      ]
     },
     "execution_count": 18,
     "metadata": {},
     "output_type": "execute_result"
    }
   ],
   "source": [
    "uni_1995[uni_1995['labforce']==0]['Model Predicted LFP Probability'].mean()"
   ]
  },
  {
   "cell_type": "code",
   "execution_count": 19,
   "metadata": {},
   "outputs": [
    {
     "data": {
      "text/plain": [
       "0.7599318380920342"
      ]
     },
     "execution_count": 19,
     "metadata": {},
     "output_type": "execute_result"
    }
   ],
   "source": [
    "uni_1995[uni_1995['labforce']==1]['Model Predicted LFP Probability'].mean()"
   ]
  },
  {
   "cell_type": "markdown",
   "metadata": {},
   "source": [
    "Overall, it looks like the model does a good job of predicting labor force participation in 1995. It predicts an aggregate LFPR very close to the true observed LFPR, reliably classifies those in the labor force correctly, and is more likely than not to correctly classify those not in the labor force as well. Now we will see what this model predicts for 2015."
   ]
  },
  {
   "cell_type": "code",
   "execution_count": 20,
   "metadata": {},
   "outputs": [
    {
     "data": {
      "text/html": [
       "<div>\n",
       "<style scoped>\n",
       "    .dataframe tbody tr th:only-of-type {\n",
       "        vertical-align: middle;\n",
       "    }\n",
       "\n",
       "    .dataframe tbody tr th {\n",
       "        vertical-align: top;\n",
       "    }\n",
       "\n",
       "    .dataframe thead th {\n",
       "        text-align: right;\n",
       "    }\n",
       "</style>\n",
       "<table border=\"1\" class=\"dataframe\">\n",
       "  <thead>\n",
       "    <tr style=\"text-align: right;\">\n",
       "      <th></th>\n",
       "      <th>year</th>\n",
       "      <th>wtsupp</th>\n",
       "      <th>age</th>\n",
       "      <th>sex</th>\n",
       "      <th>popstat</th>\n",
       "      <th>labforce</th>\n",
       "      <th>agesq</th>\n",
       "      <th>w_labforce</th>\n",
       "      <th>Model Predicted LFP Probability</th>\n",
       "    </tr>\n",
       "  </thead>\n",
       "  <tbody>\n",
       "    <tr>\n",
       "      <td>149642</td>\n",
       "      <td>2015</td>\n",
       "      <td>690.05</td>\n",
       "      <td>48</td>\n",
       "      <td>1</td>\n",
       "      <td>1</td>\n",
       "      <td>1</td>\n",
       "      <td>2304</td>\n",
       "      <td>0.415813</td>\n",
       "      <td>0.832365</td>\n",
       "    </tr>\n",
       "    <tr>\n",
       "      <td>149643</td>\n",
       "      <td>2015</td>\n",
       "      <td>690.05</td>\n",
       "      <td>45</td>\n",
       "      <td>2</td>\n",
       "      <td>1</td>\n",
       "      <td>0</td>\n",
       "      <td>2025</td>\n",
       "      <td>0.000000</td>\n",
       "      <td>0.853894</td>\n",
       "    </tr>\n",
       "    <tr>\n",
       "      <td>149644</td>\n",
       "      <td>2015</td>\n",
       "      <td>583.80</td>\n",
       "      <td>23</td>\n",
       "      <td>2</td>\n",
       "      <td>1</td>\n",
       "      <td>1</td>\n",
       "      <td>529</td>\n",
       "      <td>0.351789</td>\n",
       "      <td>0.703207</td>\n",
       "    </tr>\n",
       "    <tr>\n",
       "      <td>149646</td>\n",
       "      <td>2015</td>\n",
       "      <td>735.83</td>\n",
       "      <td>80</td>\n",
       "      <td>2</td>\n",
       "      <td>1</td>\n",
       "      <td>0</td>\n",
       "      <td>6400</td>\n",
       "      <td>0.000000</td>\n",
       "      <td>0.012025</td>\n",
       "    </tr>\n",
       "    <tr>\n",
       "      <td>149647</td>\n",
       "      <td>2015</td>\n",
       "      <td>513.98</td>\n",
       "      <td>64</td>\n",
       "      <td>2</td>\n",
       "      <td>1</td>\n",
       "      <td>1</td>\n",
       "      <td>4096</td>\n",
       "      <td>0.309716</td>\n",
       "      <td>0.394962</td>\n",
       "    </tr>\n",
       "  </tbody>\n",
       "</table>\n",
       "</div>"
      ],
      "text/plain": [
       "        year  wtsupp  age  sex  popstat  labforce  agesq  w_labforce  \\\n",
       "149642  2015  690.05   48    1        1         1   2304    0.415813   \n",
       "149643  2015  690.05   45    2        1         0   2025    0.000000   \n",
       "149644  2015  583.80   23    2        1         1    529    0.351789   \n",
       "149646  2015  735.83   80    2        1         0   6400    0.000000   \n",
       "149647  2015  513.98   64    2        1         1   4096    0.309716   \n",
       "\n",
       "        Model Predicted LFP Probability  \n",
       "149642                         0.832365  \n",
       "149643                         0.853894  \n",
       "149644                         0.703207  \n",
       "149646                         0.012025  \n",
       "149647                         0.394962  "
      ]
     },
     "execution_count": 20,
     "metadata": {},
     "output_type": "execute_result"
    }
   ],
   "source": [
    "uni_2015['Model Predicted LFP Probability']=uni_2015.apply(lambda x: predict_lfp(x.age, x.agesq),axis=1)\n",
    "uni_2015.head()"
   ]
  },
  {
   "cell_type": "code",
   "execution_count": 21,
   "metadata": {},
   "outputs": [
    {
     "data": {
      "text/plain": [
       "0.6346104529083473"
      ]
     },
     "execution_count": 21,
     "metadata": {},
     "output_type": "execute_result"
    }
   ],
   "source": [
    "uni_2015['Model Predicted LFP Probability'].mean()"
   ]
  },
  {
   "cell_type": "markdown",
   "metadata": {},
   "source": [
    "The model-predicted aggregate LFPR for 2015 is 63.46%, which is 1.36 percentage points lower than the model-predicted aggregate LFPR for 1995. Therefore I attribute approximately ~1.36 percentage points of the LFPR decrease between 1995 and 2015 to population aging, leaving a gap of 2.20 percentage points that cannot be explained in this manner. \n",
    "\n",
    "This means that had the population not aged and all else remained constant, we should expect the LFPR in 2015 to have been around 63.00%. "
   ]
  },
  {
   "cell_type": "code",
   "execution_count": null,
   "metadata": {},
   "outputs": [],
   "source": []
  },
  {
   "cell_type": "code",
   "execution_count": null,
   "metadata": {},
   "outputs": [],
   "source": []
  },
  {
   "cell_type": "code",
   "execution_count": null,
   "metadata": {},
   "outputs": [],
   "source": []
  }
 ],
 "metadata": {
  "kernelspec": {
   "display_name": "Python 3",
   "language": "python",
   "name": "python3"
  },
  "language_info": {
   "codemirror_mode": {
    "name": "ipython",
    "version": 3
   },
   "file_extension": ".py",
   "mimetype": "text/x-python",
   "name": "python",
   "nbconvert_exporter": "python",
   "pygments_lexer": "ipython3",
   "version": "3.7.4"
  }
 },
 "nbformat": 4,
 "nbformat_minor": 2
}
